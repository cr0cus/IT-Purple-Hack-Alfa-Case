{
  "cells": [
    {
      "cell_type": "markdown",
      "source": [
        "# **LightGBM, XGBoost, CatBoost: оценка важности признаков**"
      ],
      "metadata": {
        "id": "o37ByPVwonqK"
      },
      "id": "o37ByPVwonqK"
    },
    {
      "cell_type": "code",
      "source": [
        "!pip install catboost"
      ],
      "metadata": {
        "colab": {
          "base_uri": "https://localhost:8080/"
        },
        "id": "yhzFnvP9tomx",
        "outputId": "67d7959c-3d8d-41ae-de1b-73ad686e586e"
      },
      "id": "yhzFnvP9tomx",
      "execution_count": 2,
      "outputs": [
        {
          "output_type": "stream",
          "name": "stdout",
          "text": [
            "Collecting catboost\n",
            "  Downloading catboost-1.2.3-cp310-cp310-manylinux2014_x86_64.whl (98.5 MB)\n",
            "\u001b[2K     \u001b[90m━━━━━━━━━━━━━━━━━━━━━━━━━━━━━━━━━━━━━━━━\u001b[0m \u001b[32m98.5/98.5 MB\u001b[0m \u001b[31m6.8 MB/s\u001b[0m eta \u001b[36m0:00:00\u001b[0m\n",
            "\u001b[?25hRequirement already satisfied: graphviz in /usr/local/lib/python3.10/dist-packages (from catboost) (0.20.1)\n",
            "Requirement already satisfied: matplotlib in /usr/local/lib/python3.10/dist-packages (from catboost) (3.7.1)\n",
            "Requirement already satisfied: numpy>=1.16.0 in /usr/local/lib/python3.10/dist-packages (from catboost) (1.25.2)\n",
            "Requirement already satisfied: pandas>=0.24 in /usr/local/lib/python3.10/dist-packages (from catboost) (1.5.3)\n",
            "Requirement already satisfied: scipy in /usr/local/lib/python3.10/dist-packages (from catboost) (1.11.4)\n",
            "Requirement already satisfied: plotly in /usr/local/lib/python3.10/dist-packages (from catboost) (5.15.0)\n",
            "Requirement already satisfied: six in /usr/local/lib/python3.10/dist-packages (from catboost) (1.16.0)\n",
            "Requirement already satisfied: python-dateutil>=2.8.1 in /usr/local/lib/python3.10/dist-packages (from pandas>=0.24->catboost) (2.8.2)\n",
            "Requirement already satisfied: pytz>=2020.1 in /usr/local/lib/python3.10/dist-packages (from pandas>=0.24->catboost) (2023.4)\n",
            "Requirement already satisfied: contourpy>=1.0.1 in /usr/local/lib/python3.10/dist-packages (from matplotlib->catboost) (1.2.0)\n",
            "Requirement already satisfied: cycler>=0.10 in /usr/local/lib/python3.10/dist-packages (from matplotlib->catboost) (0.12.1)\n",
            "Requirement already satisfied: fonttools>=4.22.0 in /usr/local/lib/python3.10/dist-packages (from matplotlib->catboost) (4.49.0)\n",
            "Requirement already satisfied: kiwisolver>=1.0.1 in /usr/local/lib/python3.10/dist-packages (from matplotlib->catboost) (1.4.5)\n",
            "Requirement already satisfied: packaging>=20.0 in /usr/local/lib/python3.10/dist-packages (from matplotlib->catboost) (23.2)\n",
            "Requirement already satisfied: pillow>=6.2.0 in /usr/local/lib/python3.10/dist-packages (from matplotlib->catboost) (9.4.0)\n",
            "Requirement already satisfied: pyparsing>=2.3.1 in /usr/local/lib/python3.10/dist-packages (from matplotlib->catboost) (3.1.2)\n",
            "Requirement already satisfied: tenacity>=6.2.0 in /usr/local/lib/python3.10/dist-packages (from plotly->catboost) (8.2.3)\n",
            "Installing collected packages: catboost\n",
            "Successfully installed catboost-1.2.3\n"
          ]
        }
      ]
    },
    {
      "cell_type": "code",
      "execution_count": 3,
      "id": "e0ddb399-18f4-4051-86c0-39f1c623eef5",
      "metadata": {
        "execution": {
          "iopub.execute_input": "2024-02-15T11:34:39.109032Z",
          "iopub.status.busy": "2024-02-15T11:34:39.108624Z",
          "iopub.status.idle": "2024-02-15T11:34:39.955360Z",
          "shell.execute_reply": "2024-02-15T11:34:39.954584Z",
          "shell.execute_reply.started": "2024-02-15T11:34:39.109007Z"
        },
        "tags": [],
        "id": "e0ddb399-18f4-4051-86c0-39f1c623eef5"
      },
      "outputs": [],
      "source": [
        "import numpy as np\n",
        "import pandas as pd\n",
        "from lightgbm import LGBMClassifier\n",
        "from catboost import CatBoostClassifier\n",
        "from xgboost import XGBClassifier\n",
        "from sklearn.metrics import roc_auc_score\n",
        "from sklearn.model_selection import StratifiedKFold\n",
        "from sklearn.model_selection import train_test_split"
      ]
    },
    {
      "cell_type": "code",
      "source": [
        "from sklearn.experimental import enable_halving_search_cv\n",
        "from sklearn.model_selection import HalvingGridSearchCV"
      ],
      "metadata": {
        "id": "VCfT8dsRpluO"
      },
      "id": "VCfT8dsRpluO",
      "execution_count": 4,
      "outputs": []
    },
    {
      "cell_type": "code",
      "source": [
        "!pip freeze | grep \"numpy\\|pandas\\|lightgbm\\|scikit-learn\""
      ],
      "metadata": {
        "colab": {
          "base_uri": "https://localhost:8080/"
        },
        "id": "UGbFotJtPjeV",
        "outputId": "afec4a70-3fd1-485e-dd3f-72139e2210f0"
      },
      "id": "UGbFotJtPjeV",
      "execution_count": 5,
      "outputs": [
        {
          "output_type": "stream",
          "name": "stdout",
          "text": [
            "geopandas==0.13.2\n",
            "lightgbm==4.1.0\n",
            "numpy==1.25.2\n",
            "pandas==1.5.3\n",
            "pandas-datareader==0.10.0\n",
            "pandas-gbq==0.19.2\n",
            "pandas-stubs==1.5.3.230304\n",
            "scikit-learn==1.2.2\n",
            "sklearn-pandas==2.2.0\n"
          ]
        }
      ]
    },
    {
      "cell_type": "code",
      "source": [
        "def weighted_roc_auc(y_true, y_pred, labels, weights_dict):\n",
        "    unnorm_weights = np.array([weights_dict[label] for label in labels])\n",
        "    weights = unnorm_weights / unnorm_weights.sum()\n",
        "    classes_roc_auc = roc_auc_score(y_true, y_pred, labels=labels,\n",
        "                                    multi_class=\"ovr\", average=None)\n",
        "    return sum(weights * classes_roc_auc)"
      ],
      "metadata": {
        "id": "cqa-7FGTtJrB"
      },
      "id": "cqa-7FGTtJrB",
      "execution_count": 6,
      "outputs": []
    },
    {
      "cell_type": "markdown",
      "id": "cbcf3aae-5417-42a3-9ed2-818b9aef0f2f",
      "metadata": {
        "id": "cbcf3aae-5417-42a3-9ed2-818b9aef0f2f"
      },
      "source": [
        "# Загрузка данных"
      ]
    },
    {
      "cell_type": "code",
      "execution_count": 7,
      "id": "32c8b1b0-f95e-4cb5-bbc1-c0edb76568c1",
      "metadata": {
        "execution": {
          "iopub.execute_input": "2024-02-15T11:34:44.750723Z",
          "iopub.status.busy": "2024-02-15T11:34:44.750145Z",
          "iopub.status.idle": "2024-02-15T11:34:46.098228Z",
          "shell.execute_reply": "2024-02-15T11:34:46.097494Z",
          "shell.execute_reply.started": "2024-02-15T11:34:44.750694Z"
        },
        "tags": [],
        "id": "32c8b1b0-f95e-4cb5-bbc1-c0edb76568c1"
      },
      "outputs": [],
      "source": [
        "train_df = pd.read_parquet(\"train_data_modefilled.pqt\")\n",
        "test_df = pd.read_parquet(\"test_data_modefilled.pqt\")"
      ]
    },
    {
      "cell_type": "code",
      "execution_count": 8,
      "id": "8caad423-0805-4b57-9d02-8ae203be2e65",
      "metadata": {
        "execution": {
          "iopub.execute_input": "2024-02-14T23:09:54.192532Z",
          "iopub.status.busy": "2024-02-14T23:09:54.192285Z",
          "iopub.status.idle": "2024-02-14T23:09:54.214362Z",
          "shell.execute_reply": "2024-02-14T23:09:54.213854Z",
          "shell.execute_reply.started": "2024-02-14T23:09:54.192509Z"
        },
        "tags": [],
        "colab": {
          "base_uri": "https://localhost:8080/",
          "height": 193
        },
        "id": "8caad423-0805-4b57-9d02-8ae203be2e65",
        "outputId": "73b5e1eb-40c3-4018-937e-562eae2893b1"
      },
      "outputs": [
        {
          "output_type": "execute_result",
          "data": {
            "text/plain": [
              "   id     date  balance_amt_avg  balance_amt_max  balance_amt_min  \\\n",
              "0   0  month_1         0.744845         0.705492         1.287207   \n",
              "1   0  month_2         1.049605         0.831916         2.458609   \n",
              "2   0  month_3         0.692653         0.740253         0.430042   \n",
              "\n",
              "   balance_amt_day_avg    channel_code     city    city_type  \\\n",
              "0             0.748101  channel_code_5  city_23  city_type_0   \n",
              "1             1.053805  channel_code_5  city_23  city_type_0   \n",
              "2             0.695747  channel_code_5  city_23  city_type_0   \n",
              "\n",
              "      index_city_code  ...  cnt_cred_g_oper_3m  cnt_days_cred_g_oper_3m  \\\n",
              "0  index_city_code_39  ...            0.951166                 0.568681   \n",
              "1  index_city_code_39  ...            0.948812                 0.499716   \n",
              "2  index_city_code_39  ...            0.946458                 0.442244   \n",
              "\n",
              "  sum_deb_h_oper_3m cnt_deb_h_oper_3m  cnt_days_deb_h_oper_3m  \\\n",
              "0          0.897565          0.553624                0.774354   \n",
              "1          0.785029          0.551904                0.696576   \n",
              "2          0.877050          0.551044                0.663243   \n",
              "\n",
              "   sum_cred_h_oper_3m  cnt_cred_h_oper_3m  cnt_days_cred_h_oper_3m  \\\n",
              "0            0.936506            0.295984                 0.967947   \n",
              "1            0.990157            0.298873                 0.945969   \n",
              "2            0.810065            0.294829                 0.956958   \n",
              "\n",
              "  start_cluster end_cluster  \n",
              "0        {α, γ}     {other}  \n",
              "1        {α, γ}     {other}  \n",
              "2        {α, γ}     {other}  \n",
              "\n",
              "[3 rows x 93 columns]"
            ],
            "text/html": [
              "\n",
              "  <div id=\"df-96268492-90f0-4eb7-a49a-010624ff1b17\" class=\"colab-df-container\">\n",
              "    <div>\n",
              "<style scoped>\n",
              "    .dataframe tbody tr th:only-of-type {\n",
              "        vertical-align: middle;\n",
              "    }\n",
              "\n",
              "    .dataframe tbody tr th {\n",
              "        vertical-align: top;\n",
              "    }\n",
              "\n",
              "    .dataframe thead th {\n",
              "        text-align: right;\n",
              "    }\n",
              "</style>\n",
              "<table border=\"1\" class=\"dataframe\">\n",
              "  <thead>\n",
              "    <tr style=\"text-align: right;\">\n",
              "      <th></th>\n",
              "      <th>id</th>\n",
              "      <th>date</th>\n",
              "      <th>balance_amt_avg</th>\n",
              "      <th>balance_amt_max</th>\n",
              "      <th>balance_amt_min</th>\n",
              "      <th>balance_amt_day_avg</th>\n",
              "      <th>channel_code</th>\n",
              "      <th>city</th>\n",
              "      <th>city_type</th>\n",
              "      <th>index_city_code</th>\n",
              "      <th>...</th>\n",
              "      <th>cnt_cred_g_oper_3m</th>\n",
              "      <th>cnt_days_cred_g_oper_3m</th>\n",
              "      <th>sum_deb_h_oper_3m</th>\n",
              "      <th>cnt_deb_h_oper_3m</th>\n",
              "      <th>cnt_days_deb_h_oper_3m</th>\n",
              "      <th>sum_cred_h_oper_3m</th>\n",
              "      <th>cnt_cred_h_oper_3m</th>\n",
              "      <th>cnt_days_cred_h_oper_3m</th>\n",
              "      <th>start_cluster</th>\n",
              "      <th>end_cluster</th>\n",
              "    </tr>\n",
              "  </thead>\n",
              "  <tbody>\n",
              "    <tr>\n",
              "      <th>0</th>\n",
              "      <td>0</td>\n",
              "      <td>month_1</td>\n",
              "      <td>0.744845</td>\n",
              "      <td>0.705492</td>\n",
              "      <td>1.287207</td>\n",
              "      <td>0.748101</td>\n",
              "      <td>channel_code_5</td>\n",
              "      <td>city_23</td>\n",
              "      <td>city_type_0</td>\n",
              "      <td>index_city_code_39</td>\n",
              "      <td>...</td>\n",
              "      <td>0.951166</td>\n",
              "      <td>0.568681</td>\n",
              "      <td>0.897565</td>\n",
              "      <td>0.553624</td>\n",
              "      <td>0.774354</td>\n",
              "      <td>0.936506</td>\n",
              "      <td>0.295984</td>\n",
              "      <td>0.967947</td>\n",
              "      <td>{α, γ}</td>\n",
              "      <td>{other}</td>\n",
              "    </tr>\n",
              "    <tr>\n",
              "      <th>1</th>\n",
              "      <td>0</td>\n",
              "      <td>month_2</td>\n",
              "      <td>1.049605</td>\n",
              "      <td>0.831916</td>\n",
              "      <td>2.458609</td>\n",
              "      <td>1.053805</td>\n",
              "      <td>channel_code_5</td>\n",
              "      <td>city_23</td>\n",
              "      <td>city_type_0</td>\n",
              "      <td>index_city_code_39</td>\n",
              "      <td>...</td>\n",
              "      <td>0.948812</td>\n",
              "      <td>0.499716</td>\n",
              "      <td>0.785029</td>\n",
              "      <td>0.551904</td>\n",
              "      <td>0.696576</td>\n",
              "      <td>0.990157</td>\n",
              "      <td>0.298873</td>\n",
              "      <td>0.945969</td>\n",
              "      <td>{α, γ}</td>\n",
              "      <td>{other}</td>\n",
              "    </tr>\n",
              "    <tr>\n",
              "      <th>2</th>\n",
              "      <td>0</td>\n",
              "      <td>month_3</td>\n",
              "      <td>0.692653</td>\n",
              "      <td>0.740253</td>\n",
              "      <td>0.430042</td>\n",
              "      <td>0.695747</td>\n",
              "      <td>channel_code_5</td>\n",
              "      <td>city_23</td>\n",
              "      <td>city_type_0</td>\n",
              "      <td>index_city_code_39</td>\n",
              "      <td>...</td>\n",
              "      <td>0.946458</td>\n",
              "      <td>0.442244</td>\n",
              "      <td>0.877050</td>\n",
              "      <td>0.551044</td>\n",
              "      <td>0.663243</td>\n",
              "      <td>0.810065</td>\n",
              "      <td>0.294829</td>\n",
              "      <td>0.956958</td>\n",
              "      <td>{α, γ}</td>\n",
              "      <td>{other}</td>\n",
              "    </tr>\n",
              "  </tbody>\n",
              "</table>\n",
              "<p>3 rows × 93 columns</p>\n",
              "</div>\n",
              "    <div class=\"colab-df-buttons\">\n",
              "\n",
              "  <div class=\"colab-df-container\">\n",
              "    <button class=\"colab-df-convert\" onclick=\"convertToInteractive('df-96268492-90f0-4eb7-a49a-010624ff1b17')\"\n",
              "            title=\"Convert this dataframe to an interactive table.\"\n",
              "            style=\"display:none;\">\n",
              "\n",
              "  <svg xmlns=\"http://www.w3.org/2000/svg\" height=\"24px\" viewBox=\"0 -960 960 960\">\n",
              "    <path d=\"M120-120v-720h720v720H120Zm60-500h600v-160H180v160Zm220 220h160v-160H400v160Zm0 220h160v-160H400v160ZM180-400h160v-160H180v160Zm440 0h160v-160H620v160ZM180-180h160v-160H180v160Zm440 0h160v-160H620v160Z\"/>\n",
              "  </svg>\n",
              "    </button>\n",
              "\n",
              "  <style>\n",
              "    .colab-df-container {\n",
              "      display:flex;\n",
              "      gap: 12px;\n",
              "    }\n",
              "\n",
              "    .colab-df-convert {\n",
              "      background-color: #E8F0FE;\n",
              "      border: none;\n",
              "      border-radius: 50%;\n",
              "      cursor: pointer;\n",
              "      display: none;\n",
              "      fill: #1967D2;\n",
              "      height: 32px;\n",
              "      padding: 0 0 0 0;\n",
              "      width: 32px;\n",
              "    }\n",
              "\n",
              "    .colab-df-convert:hover {\n",
              "      background-color: #E2EBFA;\n",
              "      box-shadow: 0px 1px 2px rgba(60, 64, 67, 0.3), 0px 1px 3px 1px rgba(60, 64, 67, 0.15);\n",
              "      fill: #174EA6;\n",
              "    }\n",
              "\n",
              "    .colab-df-buttons div {\n",
              "      margin-bottom: 4px;\n",
              "    }\n",
              "\n",
              "    [theme=dark] .colab-df-convert {\n",
              "      background-color: #3B4455;\n",
              "      fill: #D2E3FC;\n",
              "    }\n",
              "\n",
              "    [theme=dark] .colab-df-convert:hover {\n",
              "      background-color: #434B5C;\n",
              "      box-shadow: 0px 1px 3px 1px rgba(0, 0, 0, 0.15);\n",
              "      filter: drop-shadow(0px 1px 2px rgba(0, 0, 0, 0.3));\n",
              "      fill: #FFFFFF;\n",
              "    }\n",
              "  </style>\n",
              "\n",
              "    <script>\n",
              "      const buttonEl =\n",
              "        document.querySelector('#df-96268492-90f0-4eb7-a49a-010624ff1b17 button.colab-df-convert');\n",
              "      buttonEl.style.display =\n",
              "        google.colab.kernel.accessAllowed ? 'block' : 'none';\n",
              "\n",
              "      async function convertToInteractive(key) {\n",
              "        const element = document.querySelector('#df-96268492-90f0-4eb7-a49a-010624ff1b17');\n",
              "        const dataTable =\n",
              "          await google.colab.kernel.invokeFunction('convertToInteractive',\n",
              "                                                    [key], {});\n",
              "        if (!dataTable) return;\n",
              "\n",
              "        const docLinkHtml = 'Like what you see? Visit the ' +\n",
              "          '<a target=\"_blank\" href=https://colab.research.google.com/notebooks/data_table.ipynb>data table notebook</a>'\n",
              "          + ' to learn more about interactive tables.';\n",
              "        element.innerHTML = '';\n",
              "        dataTable['output_type'] = 'display_data';\n",
              "        await google.colab.output.renderOutput(dataTable, element);\n",
              "        const docLink = document.createElement('div');\n",
              "        docLink.innerHTML = docLinkHtml;\n",
              "        element.appendChild(docLink);\n",
              "      }\n",
              "    </script>\n",
              "  </div>\n",
              "\n",
              "\n",
              "<div id=\"df-ccd37893-983d-40f3-b160-85e162490455\">\n",
              "  <button class=\"colab-df-quickchart\" onclick=\"quickchart('df-ccd37893-983d-40f3-b160-85e162490455')\"\n",
              "            title=\"Suggest charts\"\n",
              "            style=\"display:none;\">\n",
              "\n",
              "<svg xmlns=\"http://www.w3.org/2000/svg\" height=\"24px\"viewBox=\"0 0 24 24\"\n",
              "     width=\"24px\">\n",
              "    <g>\n",
              "        <path d=\"M19 3H5c-1.1 0-2 .9-2 2v14c0 1.1.9 2 2 2h14c1.1 0 2-.9 2-2V5c0-1.1-.9-2-2-2zM9 17H7v-7h2v7zm4 0h-2V7h2v10zm4 0h-2v-4h2v4z\"/>\n",
              "    </g>\n",
              "</svg>\n",
              "  </button>\n",
              "\n",
              "<style>\n",
              "  .colab-df-quickchart {\n",
              "      --bg-color: #E8F0FE;\n",
              "      --fill-color: #1967D2;\n",
              "      --hover-bg-color: #E2EBFA;\n",
              "      --hover-fill-color: #174EA6;\n",
              "      --disabled-fill-color: #AAA;\n",
              "      --disabled-bg-color: #DDD;\n",
              "  }\n",
              "\n",
              "  [theme=dark] .colab-df-quickchart {\n",
              "      --bg-color: #3B4455;\n",
              "      --fill-color: #D2E3FC;\n",
              "      --hover-bg-color: #434B5C;\n",
              "      --hover-fill-color: #FFFFFF;\n",
              "      --disabled-bg-color: #3B4455;\n",
              "      --disabled-fill-color: #666;\n",
              "  }\n",
              "\n",
              "  .colab-df-quickchart {\n",
              "    background-color: var(--bg-color);\n",
              "    border: none;\n",
              "    border-radius: 50%;\n",
              "    cursor: pointer;\n",
              "    display: none;\n",
              "    fill: var(--fill-color);\n",
              "    height: 32px;\n",
              "    padding: 0;\n",
              "    width: 32px;\n",
              "  }\n",
              "\n",
              "  .colab-df-quickchart:hover {\n",
              "    background-color: var(--hover-bg-color);\n",
              "    box-shadow: 0 1px 2px rgba(60, 64, 67, 0.3), 0 1px 3px 1px rgba(60, 64, 67, 0.15);\n",
              "    fill: var(--button-hover-fill-color);\n",
              "  }\n",
              "\n",
              "  .colab-df-quickchart-complete:disabled,\n",
              "  .colab-df-quickchart-complete:disabled:hover {\n",
              "    background-color: var(--disabled-bg-color);\n",
              "    fill: var(--disabled-fill-color);\n",
              "    box-shadow: none;\n",
              "  }\n",
              "\n",
              "  .colab-df-spinner {\n",
              "    border: 2px solid var(--fill-color);\n",
              "    border-color: transparent;\n",
              "    border-bottom-color: var(--fill-color);\n",
              "    animation:\n",
              "      spin 1s steps(1) infinite;\n",
              "  }\n",
              "\n",
              "  @keyframes spin {\n",
              "    0% {\n",
              "      border-color: transparent;\n",
              "      border-bottom-color: var(--fill-color);\n",
              "      border-left-color: var(--fill-color);\n",
              "    }\n",
              "    20% {\n",
              "      border-color: transparent;\n",
              "      border-left-color: var(--fill-color);\n",
              "      border-top-color: var(--fill-color);\n",
              "    }\n",
              "    30% {\n",
              "      border-color: transparent;\n",
              "      border-left-color: var(--fill-color);\n",
              "      border-top-color: var(--fill-color);\n",
              "      border-right-color: var(--fill-color);\n",
              "    }\n",
              "    40% {\n",
              "      border-color: transparent;\n",
              "      border-right-color: var(--fill-color);\n",
              "      border-top-color: var(--fill-color);\n",
              "    }\n",
              "    60% {\n",
              "      border-color: transparent;\n",
              "      border-right-color: var(--fill-color);\n",
              "    }\n",
              "    80% {\n",
              "      border-color: transparent;\n",
              "      border-right-color: var(--fill-color);\n",
              "      border-bottom-color: var(--fill-color);\n",
              "    }\n",
              "    90% {\n",
              "      border-color: transparent;\n",
              "      border-bottom-color: var(--fill-color);\n",
              "    }\n",
              "  }\n",
              "</style>\n",
              "\n",
              "  <script>\n",
              "    async function quickchart(key) {\n",
              "      const quickchartButtonEl =\n",
              "        document.querySelector('#' + key + ' button');\n",
              "      quickchartButtonEl.disabled = true;  // To prevent multiple clicks.\n",
              "      quickchartButtonEl.classList.add('colab-df-spinner');\n",
              "      try {\n",
              "        const charts = await google.colab.kernel.invokeFunction(\n",
              "            'suggestCharts', [key], {});\n",
              "      } catch (error) {\n",
              "        console.error('Error during call to suggestCharts:', error);\n",
              "      }\n",
              "      quickchartButtonEl.classList.remove('colab-df-spinner');\n",
              "      quickchartButtonEl.classList.add('colab-df-quickchart-complete');\n",
              "    }\n",
              "    (() => {\n",
              "      let quickchartButtonEl =\n",
              "        document.querySelector('#df-ccd37893-983d-40f3-b160-85e162490455 button');\n",
              "      quickchartButtonEl.style.display =\n",
              "        google.colab.kernel.accessAllowed ? 'block' : 'none';\n",
              "    })();\n",
              "  </script>\n",
              "</div>\n",
              "    </div>\n",
              "  </div>\n"
            ],
            "application/vnd.google.colaboratory.intrinsic+json": {
              "type": "dataframe",
              "variable_name": "train_df"
            }
          },
          "metadata": {},
          "execution_count": 8
        }
      ],
      "source": [
        "train_df.head(3)"
      ]
    },
    {
      "cell_type": "code",
      "execution_count": 9,
      "id": "97d5280f-33cc-4966-a1cd-c80c7022d1aa",
      "metadata": {
        "execution": {
          "iopub.execute_input": "2024-02-14T23:09:54.216152Z",
          "iopub.status.busy": "2024-02-14T23:09:54.215898Z",
          "iopub.status.idle": "2024-02-14T23:09:54.231329Z",
          "shell.execute_reply": "2024-02-14T23:09:54.230822Z",
          "shell.execute_reply.started": "2024-02-14T23:09:54.216133Z"
        },
        "tags": [],
        "colab": {
          "base_uri": "https://localhost:8080/",
          "height": 193
        },
        "id": "97d5280f-33cc-4966-a1cd-c80c7022d1aa",
        "outputId": "2bf259ce-4860-426a-c999-a39337adce68"
      },
      "outputs": [
        {
          "output_type": "execute_result",
          "data": {
            "text/plain": [
              "       id     date  balance_amt_avg  balance_amt_max  balance_amt_min  \\\n",
              "0  200000  month_4        -0.096224         0.335496        -0.125995   \n",
              "1  200000  month_5        -0.024255        -0.059806        -0.124295   \n",
              "2  200000  month_6         0.045988         0.049418        -0.125995   \n",
              "\n",
              "   balance_amt_day_avg     channel_code     city    city_type  \\\n",
              "0            -0.095578  channel_code_12  city_14  city_type_0   \n",
              "1            -0.023381  channel_code_12  city_14  city_type_0   \n",
              "2             0.047079  channel_code_12  city_14  city_type_0   \n",
              "\n",
              "      index_city_code  ...  sum_cred_g_oper_3m  cnt_cred_g_oper_3m  \\\n",
              "0  index_city_code_46  ...            0.010952            0.946066   \n",
              "1  index_city_code_46  ...            0.006812            0.945281   \n",
              "2  index_city_code_46  ...            0.006812            0.945281   \n",
              "\n",
              "  cnt_days_cred_g_oper_3m sum_deb_h_oper_3m  cnt_deb_h_oper_3m  \\\n",
              "0                0.407762         -0.153950           0.548895   \n",
              "1                0.396267         -0.150505           0.549468   \n",
              "2                0.396267         -0.152800           0.549468   \n",
              "\n",
              "   cnt_days_deb_h_oper_3m  sum_cred_h_oper_3m  cnt_cred_h_oper_3m  \\\n",
              "0                0.541020            0.031742            0.257278   \n",
              "1                0.552131            0.237817            0.264211   \n",
              "2                0.541020            0.387566            0.268543   \n",
              "\n",
              "  cnt_days_cred_h_oper_3m start_cluster  \n",
              "0                0.561353           {α}  \n",
              "1                0.715199           {α}  \n",
              "2                0.836079           {α}  \n",
              "\n",
              "[3 rows x 92 columns]"
            ],
            "text/html": [
              "\n",
              "  <div id=\"df-211bb409-d41e-4f64-b1fb-47761195a31d\" class=\"colab-df-container\">\n",
              "    <div>\n",
              "<style scoped>\n",
              "    .dataframe tbody tr th:only-of-type {\n",
              "        vertical-align: middle;\n",
              "    }\n",
              "\n",
              "    .dataframe tbody tr th {\n",
              "        vertical-align: top;\n",
              "    }\n",
              "\n",
              "    .dataframe thead th {\n",
              "        text-align: right;\n",
              "    }\n",
              "</style>\n",
              "<table border=\"1\" class=\"dataframe\">\n",
              "  <thead>\n",
              "    <tr style=\"text-align: right;\">\n",
              "      <th></th>\n",
              "      <th>id</th>\n",
              "      <th>date</th>\n",
              "      <th>balance_amt_avg</th>\n",
              "      <th>balance_amt_max</th>\n",
              "      <th>balance_amt_min</th>\n",
              "      <th>balance_amt_day_avg</th>\n",
              "      <th>channel_code</th>\n",
              "      <th>city</th>\n",
              "      <th>city_type</th>\n",
              "      <th>index_city_code</th>\n",
              "      <th>...</th>\n",
              "      <th>sum_cred_g_oper_3m</th>\n",
              "      <th>cnt_cred_g_oper_3m</th>\n",
              "      <th>cnt_days_cred_g_oper_3m</th>\n",
              "      <th>sum_deb_h_oper_3m</th>\n",
              "      <th>cnt_deb_h_oper_3m</th>\n",
              "      <th>cnt_days_deb_h_oper_3m</th>\n",
              "      <th>sum_cred_h_oper_3m</th>\n",
              "      <th>cnt_cred_h_oper_3m</th>\n",
              "      <th>cnt_days_cred_h_oper_3m</th>\n",
              "      <th>start_cluster</th>\n",
              "    </tr>\n",
              "  </thead>\n",
              "  <tbody>\n",
              "    <tr>\n",
              "      <th>0</th>\n",
              "      <td>200000</td>\n",
              "      <td>month_4</td>\n",
              "      <td>-0.096224</td>\n",
              "      <td>0.335496</td>\n",
              "      <td>-0.125995</td>\n",
              "      <td>-0.095578</td>\n",
              "      <td>channel_code_12</td>\n",
              "      <td>city_14</td>\n",
              "      <td>city_type_0</td>\n",
              "      <td>index_city_code_46</td>\n",
              "      <td>...</td>\n",
              "      <td>0.010952</td>\n",
              "      <td>0.946066</td>\n",
              "      <td>0.407762</td>\n",
              "      <td>-0.153950</td>\n",
              "      <td>0.548895</td>\n",
              "      <td>0.541020</td>\n",
              "      <td>0.031742</td>\n",
              "      <td>0.257278</td>\n",
              "      <td>0.561353</td>\n",
              "      <td>{α}</td>\n",
              "    </tr>\n",
              "    <tr>\n",
              "      <th>1</th>\n",
              "      <td>200000</td>\n",
              "      <td>month_5</td>\n",
              "      <td>-0.024255</td>\n",
              "      <td>-0.059806</td>\n",
              "      <td>-0.124295</td>\n",
              "      <td>-0.023381</td>\n",
              "      <td>channel_code_12</td>\n",
              "      <td>city_14</td>\n",
              "      <td>city_type_0</td>\n",
              "      <td>index_city_code_46</td>\n",
              "      <td>...</td>\n",
              "      <td>0.006812</td>\n",
              "      <td>0.945281</td>\n",
              "      <td>0.396267</td>\n",
              "      <td>-0.150505</td>\n",
              "      <td>0.549468</td>\n",
              "      <td>0.552131</td>\n",
              "      <td>0.237817</td>\n",
              "      <td>0.264211</td>\n",
              "      <td>0.715199</td>\n",
              "      <td>{α}</td>\n",
              "    </tr>\n",
              "    <tr>\n",
              "      <th>2</th>\n",
              "      <td>200000</td>\n",
              "      <td>month_6</td>\n",
              "      <td>0.045988</td>\n",
              "      <td>0.049418</td>\n",
              "      <td>-0.125995</td>\n",
              "      <td>0.047079</td>\n",
              "      <td>channel_code_12</td>\n",
              "      <td>city_14</td>\n",
              "      <td>city_type_0</td>\n",
              "      <td>index_city_code_46</td>\n",
              "      <td>...</td>\n",
              "      <td>0.006812</td>\n",
              "      <td>0.945281</td>\n",
              "      <td>0.396267</td>\n",
              "      <td>-0.152800</td>\n",
              "      <td>0.549468</td>\n",
              "      <td>0.541020</td>\n",
              "      <td>0.387566</td>\n",
              "      <td>0.268543</td>\n",
              "      <td>0.836079</td>\n",
              "      <td>{α}</td>\n",
              "    </tr>\n",
              "  </tbody>\n",
              "</table>\n",
              "<p>3 rows × 92 columns</p>\n",
              "</div>\n",
              "    <div class=\"colab-df-buttons\">\n",
              "\n",
              "  <div class=\"colab-df-container\">\n",
              "    <button class=\"colab-df-convert\" onclick=\"convertToInteractive('df-211bb409-d41e-4f64-b1fb-47761195a31d')\"\n",
              "            title=\"Convert this dataframe to an interactive table.\"\n",
              "            style=\"display:none;\">\n",
              "\n",
              "  <svg xmlns=\"http://www.w3.org/2000/svg\" height=\"24px\" viewBox=\"0 -960 960 960\">\n",
              "    <path d=\"M120-120v-720h720v720H120Zm60-500h600v-160H180v160Zm220 220h160v-160H400v160Zm0 220h160v-160H400v160ZM180-400h160v-160H180v160Zm440 0h160v-160H620v160ZM180-180h160v-160H180v160Zm440 0h160v-160H620v160Z\"/>\n",
              "  </svg>\n",
              "    </button>\n",
              "\n",
              "  <style>\n",
              "    .colab-df-container {\n",
              "      display:flex;\n",
              "      gap: 12px;\n",
              "    }\n",
              "\n",
              "    .colab-df-convert {\n",
              "      background-color: #E8F0FE;\n",
              "      border: none;\n",
              "      border-radius: 50%;\n",
              "      cursor: pointer;\n",
              "      display: none;\n",
              "      fill: #1967D2;\n",
              "      height: 32px;\n",
              "      padding: 0 0 0 0;\n",
              "      width: 32px;\n",
              "    }\n",
              "\n",
              "    .colab-df-convert:hover {\n",
              "      background-color: #E2EBFA;\n",
              "      box-shadow: 0px 1px 2px rgba(60, 64, 67, 0.3), 0px 1px 3px 1px rgba(60, 64, 67, 0.15);\n",
              "      fill: #174EA6;\n",
              "    }\n",
              "\n",
              "    .colab-df-buttons div {\n",
              "      margin-bottom: 4px;\n",
              "    }\n",
              "\n",
              "    [theme=dark] .colab-df-convert {\n",
              "      background-color: #3B4455;\n",
              "      fill: #D2E3FC;\n",
              "    }\n",
              "\n",
              "    [theme=dark] .colab-df-convert:hover {\n",
              "      background-color: #434B5C;\n",
              "      box-shadow: 0px 1px 3px 1px rgba(0, 0, 0, 0.15);\n",
              "      filter: drop-shadow(0px 1px 2px rgba(0, 0, 0, 0.3));\n",
              "      fill: #FFFFFF;\n",
              "    }\n",
              "  </style>\n",
              "\n",
              "    <script>\n",
              "      const buttonEl =\n",
              "        document.querySelector('#df-211bb409-d41e-4f64-b1fb-47761195a31d button.colab-df-convert');\n",
              "      buttonEl.style.display =\n",
              "        google.colab.kernel.accessAllowed ? 'block' : 'none';\n",
              "\n",
              "      async function convertToInteractive(key) {\n",
              "        const element = document.querySelector('#df-211bb409-d41e-4f64-b1fb-47761195a31d');\n",
              "        const dataTable =\n",
              "          await google.colab.kernel.invokeFunction('convertToInteractive',\n",
              "                                                    [key], {});\n",
              "        if (!dataTable) return;\n",
              "\n",
              "        const docLinkHtml = 'Like what you see? Visit the ' +\n",
              "          '<a target=\"_blank\" href=https://colab.research.google.com/notebooks/data_table.ipynb>data table notebook</a>'\n",
              "          + ' to learn more about interactive tables.';\n",
              "        element.innerHTML = '';\n",
              "        dataTable['output_type'] = 'display_data';\n",
              "        await google.colab.output.renderOutput(dataTable, element);\n",
              "        const docLink = document.createElement('div');\n",
              "        docLink.innerHTML = docLinkHtml;\n",
              "        element.appendChild(docLink);\n",
              "      }\n",
              "    </script>\n",
              "  </div>\n",
              "\n",
              "\n",
              "<div id=\"df-a7845383-63cd-4b10-a9ea-8f8164f33cee\">\n",
              "  <button class=\"colab-df-quickchart\" onclick=\"quickchart('df-a7845383-63cd-4b10-a9ea-8f8164f33cee')\"\n",
              "            title=\"Suggest charts\"\n",
              "            style=\"display:none;\">\n",
              "\n",
              "<svg xmlns=\"http://www.w3.org/2000/svg\" height=\"24px\"viewBox=\"0 0 24 24\"\n",
              "     width=\"24px\">\n",
              "    <g>\n",
              "        <path d=\"M19 3H5c-1.1 0-2 .9-2 2v14c0 1.1.9 2 2 2h14c1.1 0 2-.9 2-2V5c0-1.1-.9-2-2-2zM9 17H7v-7h2v7zm4 0h-2V7h2v10zm4 0h-2v-4h2v4z\"/>\n",
              "    </g>\n",
              "</svg>\n",
              "  </button>\n",
              "\n",
              "<style>\n",
              "  .colab-df-quickchart {\n",
              "      --bg-color: #E8F0FE;\n",
              "      --fill-color: #1967D2;\n",
              "      --hover-bg-color: #E2EBFA;\n",
              "      --hover-fill-color: #174EA6;\n",
              "      --disabled-fill-color: #AAA;\n",
              "      --disabled-bg-color: #DDD;\n",
              "  }\n",
              "\n",
              "  [theme=dark] .colab-df-quickchart {\n",
              "      --bg-color: #3B4455;\n",
              "      --fill-color: #D2E3FC;\n",
              "      --hover-bg-color: #434B5C;\n",
              "      --hover-fill-color: #FFFFFF;\n",
              "      --disabled-bg-color: #3B4455;\n",
              "      --disabled-fill-color: #666;\n",
              "  }\n",
              "\n",
              "  .colab-df-quickchart {\n",
              "    background-color: var(--bg-color);\n",
              "    border: none;\n",
              "    border-radius: 50%;\n",
              "    cursor: pointer;\n",
              "    display: none;\n",
              "    fill: var(--fill-color);\n",
              "    height: 32px;\n",
              "    padding: 0;\n",
              "    width: 32px;\n",
              "  }\n",
              "\n",
              "  .colab-df-quickchart:hover {\n",
              "    background-color: var(--hover-bg-color);\n",
              "    box-shadow: 0 1px 2px rgba(60, 64, 67, 0.3), 0 1px 3px 1px rgba(60, 64, 67, 0.15);\n",
              "    fill: var(--button-hover-fill-color);\n",
              "  }\n",
              "\n",
              "  .colab-df-quickchart-complete:disabled,\n",
              "  .colab-df-quickchart-complete:disabled:hover {\n",
              "    background-color: var(--disabled-bg-color);\n",
              "    fill: var(--disabled-fill-color);\n",
              "    box-shadow: none;\n",
              "  }\n",
              "\n",
              "  .colab-df-spinner {\n",
              "    border: 2px solid var(--fill-color);\n",
              "    border-color: transparent;\n",
              "    border-bottom-color: var(--fill-color);\n",
              "    animation:\n",
              "      spin 1s steps(1) infinite;\n",
              "  }\n",
              "\n",
              "  @keyframes spin {\n",
              "    0% {\n",
              "      border-color: transparent;\n",
              "      border-bottom-color: var(--fill-color);\n",
              "      border-left-color: var(--fill-color);\n",
              "    }\n",
              "    20% {\n",
              "      border-color: transparent;\n",
              "      border-left-color: var(--fill-color);\n",
              "      border-top-color: var(--fill-color);\n",
              "    }\n",
              "    30% {\n",
              "      border-color: transparent;\n",
              "      border-left-color: var(--fill-color);\n",
              "      border-top-color: var(--fill-color);\n",
              "      border-right-color: var(--fill-color);\n",
              "    }\n",
              "    40% {\n",
              "      border-color: transparent;\n",
              "      border-right-color: var(--fill-color);\n",
              "      border-top-color: var(--fill-color);\n",
              "    }\n",
              "    60% {\n",
              "      border-color: transparent;\n",
              "      border-right-color: var(--fill-color);\n",
              "    }\n",
              "    80% {\n",
              "      border-color: transparent;\n",
              "      border-right-color: var(--fill-color);\n",
              "      border-bottom-color: var(--fill-color);\n",
              "    }\n",
              "    90% {\n",
              "      border-color: transparent;\n",
              "      border-bottom-color: var(--fill-color);\n",
              "    }\n",
              "  }\n",
              "</style>\n",
              "\n",
              "  <script>\n",
              "    async function quickchart(key) {\n",
              "      const quickchartButtonEl =\n",
              "        document.querySelector('#' + key + ' button');\n",
              "      quickchartButtonEl.disabled = true;  // To prevent multiple clicks.\n",
              "      quickchartButtonEl.classList.add('colab-df-spinner');\n",
              "      try {\n",
              "        const charts = await google.colab.kernel.invokeFunction(\n",
              "            'suggestCharts', [key], {});\n",
              "      } catch (error) {\n",
              "        console.error('Error during call to suggestCharts:', error);\n",
              "      }\n",
              "      quickchartButtonEl.classList.remove('colab-df-spinner');\n",
              "      quickchartButtonEl.classList.add('colab-df-quickchart-complete');\n",
              "    }\n",
              "    (() => {\n",
              "      let quickchartButtonEl =\n",
              "        document.querySelector('#df-a7845383-63cd-4b10-a9ea-8f8164f33cee button');\n",
              "      quickchartButtonEl.style.display =\n",
              "        google.colab.kernel.accessAllowed ? 'block' : 'none';\n",
              "    })();\n",
              "  </script>\n",
              "</div>\n",
              "    </div>\n",
              "  </div>\n"
            ],
            "application/vnd.google.colaboratory.intrinsic+json": {
              "type": "dataframe",
              "variable_name": "test_df"
            }
          },
          "metadata": {},
          "execution_count": 9
        }
      ],
      "source": [
        "test_df.head(3)"
      ]
    },
    {
      "cell_type": "code",
      "execution_count": 10,
      "id": "05a1edfe-fcca-4945-a00d-c0b1627d1718",
      "metadata": {
        "execution": {
          "iopub.execute_input": "2024-02-14T23:09:54.232295Z",
          "iopub.status.busy": "2024-02-14T23:09:54.232055Z",
          "iopub.status.idle": "2024-02-14T23:09:54.256480Z",
          "shell.execute_reply": "2024-02-14T23:09:54.255966Z",
          "shell.execute_reply.started": "2024-02-14T23:09:54.232276Z"
        },
        "tags": [],
        "id": "05a1edfe-fcca-4945-a00d-c0b1627d1718"
      },
      "outputs": [],
      "source": [
        "cat_cols = [\n",
        "    \"channel_code\", \"city\", \"city_type\",\n",
        "    \"okved\", \"segment\", \"start_cluster\",\n",
        "    \"index_city_code\", \"ogrn_month\", \"ogrn_year\",\n",
        "]"
      ]
    },
    {
      "cell_type": "markdown",
      "source": [
        "Обозначение категориальных признаков"
      ],
      "metadata": {
        "id": "DCN4DEaNqjr2"
      },
      "id": "DCN4DEaNqjr2"
    },
    {
      "cell_type": "code",
      "execution_count": 11,
      "id": "198295f2-78b7-41a0-b0fe-490de972beaf",
      "metadata": {
        "execution": {
          "iopub.execute_input": "2024-02-14T23:09:54.257396Z",
          "iopub.status.busy": "2024-02-14T23:09:54.257163Z",
          "iopub.status.idle": "2024-02-14T23:09:54.777051Z",
          "shell.execute_reply": "2024-02-14T23:09:54.776272Z",
          "shell.execute_reply.started": "2024-02-14T23:09:54.257375Z"
        },
        "tags": [],
        "id": "198295f2-78b7-41a0-b0fe-490de972beaf"
      },
      "outputs": [],
      "source": [
        "train_df[cat_cols] = train_df[cat_cols].astype(\"category\")\n",
        "test_df[cat_cols] = test_df[cat_cols].astype(\"category\")"
      ]
    },
    {
      "cell_type": "code",
      "execution_count": 12,
      "id": "2c0edf39-d716-48ca-a66c-936871ee5918",
      "metadata": {
        "execution": {
          "iopub.execute_input": "2024-02-14T23:09:54.944960Z",
          "iopub.status.busy": "2024-02-14T23:09:54.944681Z",
          "iopub.status.idle": "2024-02-14T23:09:55.555948Z",
          "shell.execute_reply": "2024-02-14T23:09:55.554535Z",
          "shell.execute_reply.started": "2024-02-14T23:09:54.944939Z"
        },
        "tags": [],
        "id": "2c0edf39-d716-48ca-a66c-936871ee5918"
      },
      "outputs": [],
      "source": [
        "X = train_df.drop([\"id\", \"date\", \"end_cluster\"], axis=1)\n",
        "y = train_df[\"end_cluster\"]"
      ]
    },
    {
      "cell_type": "markdown",
      "source": [
        "Извлекаем веса кластеров"
      ],
      "metadata": {
        "id": "mjQAN-_TtaP3"
      },
      "id": "mjQAN-_TtaP3"
    },
    {
      "cell_type": "code",
      "source": [
        "cluster_weights = pd.read_excel(\"/content/cluster_weights.xlsx\").set_index(\"cluster\")\n",
        "weights_dict = cluster_weights[\"unnorm_weight\"].to_dict()"
      ],
      "metadata": {
        "id": "y74Be7ExtX1b"
      },
      "id": "y74Be7ExtX1b",
      "execution_count": 13,
      "outputs": []
    },
    {
      "cell_type": "markdown",
      "source": [
        "## Обучение моделей"
      ],
      "metadata": {
        "id": "vDWH7er5tqKz"
      },
      "id": "vDWH7er5tqKz"
    },
    {
      "cell_type": "markdown",
      "source": [
        "### мечты-мечты..."
      ],
      "metadata": {
        "id": "sbj1RGzXvk9j"
      },
      "id": "sbj1RGzXvk9j"
    },
    {
      "cell_type": "code",
      "source": [
        "lgbm_model = LGBMClassifier()"
      ],
      "metadata": {
        "id": "2wNYU53L20mW"
      },
      "id": "2wNYU53L20mW",
      "execution_count": null,
      "outputs": []
    },
    {
      "cell_type": "code",
      "source": [
        "param_grid = {\n",
        "    'boosting_type': ['gbdt', 'dart', 'goss'],\n",
        "    'num_leaves': [31, 51,],\n",
        "    'learning_rate': [0.05, 0.1, 0.2],\n",
        "    'n_estimators': [100, 200, 300],\n",
        "    'reg_alpha': [0.1, 0.5, 1.0],\n",
        "    'reg_lambda': [0.1, 0.5, 1.0],\n",
        "    'random_state': [42],\n",
        "    'verbosity':[-1]\n",
        "}"
      ],
      "metadata": {
        "id": "xi76HeXq7tlu"
      },
      "id": "xi76HeXq7tlu",
      "execution_count": null,
      "outputs": []
    },
    {
      "cell_type": "code",
      "source": [
        "search = HalvingGridSearchCV(lgbm_model, param_grid, random_state=42, error_score='raise').fit(x_train, y_train)"
      ],
      "metadata": {
        "id": "izat29GntpUZ"
      },
      "id": "izat29GntpUZ",
      "execution_count": null,
      "outputs": []
    },
    {
      "cell_type": "code",
      "source": [
        "search.best_params_"
      ],
      "metadata": {
        "colab": {
          "base_uri": "https://localhost:8080/",
          "height": 141
        },
        "id": "rSsW-9kp3OtJ",
        "outputId": "1cbf7a84-b55a-47ef-98fb-4ea8b502930d"
      },
      "id": "rSsW-9kp3OtJ",
      "execution_count": null,
      "outputs": [
        {
          "output_type": "error",
          "ename": "NameError",
          "evalue": "name 'search' is not defined",
          "traceback": [
            "\u001b[0;31m---------------------------------------------------------------------------\u001b[0m",
            "\u001b[0;31mNameError\u001b[0m                                 Traceback (most recent call last)",
            "\u001b[0;32m<ipython-input-1-fe90dbebe790>\u001b[0m in \u001b[0;36m<cell line: 1>\u001b[0;34m()\u001b[0m\n\u001b[0;32m----> 1\u001b[0;31m \u001b[0msearch\u001b[0m\u001b[0;34m.\u001b[0m\u001b[0mbest_params_\u001b[0m\u001b[0;34m\u001b[0m\u001b[0;34m\u001b[0m\u001b[0m\n\u001b[0m",
            "\u001b[0;31mNameError\u001b[0m: name 'search' is not defined"
          ]
        }
      ]
    },
    {
      "cell_type": "markdown",
      "source": [
        "### CV"
      ],
      "metadata": {
        "id": "6QDrbKUwvq3O"
      },
      "id": "6QDrbKUwvq3O"
    },
    {
      "cell_type": "code",
      "source": [
        "def skf_fit(X, y, model):\n",
        "  skf = StratifiedKFold(n_splits=5)\n",
        "  results = []\n",
        "  for i, (train_index, val_index) in enumerate(skf.split(X, y)):\n",
        "      print(f\"Fold {i}:\")\n",
        "      x_train = X.iloc[train_index]\n",
        "      x_val = X.iloc[val_index]\n",
        "      y_train = y[train_index]\n",
        "      y_val = y[val_index]\n",
        "\n",
        "      model.fit(x_train, y_train, cat_features=cat_cols)\n",
        "\n",
        "      y_pred_proba = model.predict_proba(x_val)\n",
        "      results.append(weighted_roc_auc(y_val, y_pred_proba, model.classes_, weights_dict))\n",
        "  print(results)\n",
        "  print(f\"cv result: {np.mean(results)}\")\n",
        "  return model"
      ],
      "metadata": {
        "id": "gHw7dfUBoseK"
      },
      "id": "gHw7dfUBoseK",
      "execution_count": 14,
      "outputs": []
    },
    {
      "cell_type": "code",
      "source": [
        "model_lgbm = skf_fit(X, y, LGBMClassifier(verbosity=-1, random_state=42, n_jobs=-1))"
      ],
      "metadata": {
        "colab": {
          "base_uri": "https://localhost:8080/"
        },
        "id": "9pnTfrt0j_iQ",
        "outputId": "0247654d-9229-4c8e-f495-0dc1ac907273"
      },
      "id": "9pnTfrt0j_iQ",
      "execution_count": 15,
      "outputs": [
        {
          "output_type": "stream",
          "name": "stdout",
          "text": [
            "Fold 0:\n",
            "Fold 1:\n",
            "Fold 2:\n",
            "Fold 3:\n",
            "Fold 4:\n",
            "[0.7133922790104996, 0.7213146240979298, 0.7100870066733664, 0.6881407655391474, 0.7103279199632531]\n",
            "cv result: 0.7086525190568392\n"
          ]
        }
      ]
    },
    {
      "cell_type": "code",
      "source": [
        "model_xgb = skf_fit(X, y, XGBClassifier(random_state=42,  n_jobs=-1))"
      ],
      "metadata": {
        "colab": {
          "base_uri": "https://localhost:8080/",
          "height": 373
        },
        "id": "EHSLKYarufzp",
        "outputId": "f9073585-541a-4b88-827c-1708abf6340d"
      },
      "id": "EHSLKYarufzp",
      "execution_count": 16,
      "outputs": [
        {
          "output_type": "stream",
          "name": "stdout",
          "text": [
            "Fold 0:\n"
          ]
        },
        {
          "output_type": "error",
          "ename": "ValueError",
          "evalue": "Invalid classes inferred from unique values of `y`.  Expected: [ 0  1  2  3  4  5  6  7  8  9 10 11 12 13 14 15 16], got ['{other}' '{}' '{α, β}' '{α, γ}' '{α, δ}' '{α, ε, η}' '{α, ε, θ}'\n '{α, ε, ψ}' '{α, ε}' '{α, η}' '{α, θ}' '{α, λ}' '{α, μ}' '{α, π}'\n '{α, ψ}' '{α}' '{λ}']",
          "traceback": [
            "\u001b[0;31m---------------------------------------------------------------------------\u001b[0m",
            "\u001b[0;31mValueError\u001b[0m                                Traceback (most recent call last)",
            "\u001b[0;32m<ipython-input-16-65c00e6bb1d6>\u001b[0m in \u001b[0;36m<cell line: 1>\u001b[0;34m()\u001b[0m\n\u001b[0;32m----> 1\u001b[0;31m \u001b[0mmodel_xgb\u001b[0m \u001b[0;34m=\u001b[0m \u001b[0mskf_fit\u001b[0m\u001b[0;34m(\u001b[0m\u001b[0mX\u001b[0m\u001b[0;34m,\u001b[0m \u001b[0my\u001b[0m\u001b[0;34m,\u001b[0m \u001b[0mXGBClassifier\u001b[0m\u001b[0;34m(\u001b[0m\u001b[0mrandom_state\u001b[0m\u001b[0;34m=\u001b[0m\u001b[0;36m42\u001b[0m\u001b[0;34m,\u001b[0m  \u001b[0mn_jobs\u001b[0m\u001b[0;34m=\u001b[0m\u001b[0;34m-\u001b[0m\u001b[0;36m1\u001b[0m\u001b[0;34m)\u001b[0m\u001b[0;34m)\u001b[0m\u001b[0;34m\u001b[0m\u001b[0;34m\u001b[0m\u001b[0m\n\u001b[0m",
            "\u001b[0;32m<ipython-input-14-016d8b1e88d6>\u001b[0m in \u001b[0;36mskf_fit\u001b[0;34m(X, y, model)\u001b[0m\n\u001b[1;32m      9\u001b[0m       \u001b[0my_val\u001b[0m \u001b[0;34m=\u001b[0m \u001b[0my\u001b[0m\u001b[0;34m[\u001b[0m\u001b[0mval_index\u001b[0m\u001b[0;34m]\u001b[0m\u001b[0;34m\u001b[0m\u001b[0;34m\u001b[0m\u001b[0m\n\u001b[1;32m     10\u001b[0m \u001b[0;34m\u001b[0m\u001b[0m\n\u001b[0;32m---> 11\u001b[0;31m       \u001b[0mmodel\u001b[0m\u001b[0;34m.\u001b[0m\u001b[0mfit\u001b[0m\u001b[0;34m(\u001b[0m\u001b[0mx_train\u001b[0m\u001b[0;34m,\u001b[0m \u001b[0my_train\u001b[0m\u001b[0;34m)\u001b[0m\u001b[0;34m\u001b[0m\u001b[0;34m\u001b[0m\u001b[0m\n\u001b[0m\u001b[1;32m     12\u001b[0m \u001b[0;34m\u001b[0m\u001b[0m\n\u001b[1;32m     13\u001b[0m       \u001b[0my_pred_proba\u001b[0m \u001b[0;34m=\u001b[0m \u001b[0mmodel\u001b[0m\u001b[0;34m.\u001b[0m\u001b[0mpredict_proba\u001b[0m\u001b[0;34m(\u001b[0m\u001b[0mx_val\u001b[0m\u001b[0;34m)\u001b[0m\u001b[0;34m\u001b[0m\u001b[0;34m\u001b[0m\u001b[0m\n",
            "\u001b[0;32m/usr/local/lib/python3.10/dist-packages/xgboost/core.py\u001b[0m in \u001b[0;36minner_f\u001b[0;34m(*args, **kwargs)\u001b[0m\n\u001b[1;32m    728\u001b[0m             \u001b[0;32mfor\u001b[0m \u001b[0mk\u001b[0m\u001b[0;34m,\u001b[0m \u001b[0marg\u001b[0m \u001b[0;32min\u001b[0m \u001b[0mzip\u001b[0m\u001b[0;34m(\u001b[0m\u001b[0msig\u001b[0m\u001b[0;34m.\u001b[0m\u001b[0mparameters\u001b[0m\u001b[0;34m,\u001b[0m \u001b[0margs\u001b[0m\u001b[0;34m)\u001b[0m\u001b[0;34m:\u001b[0m\u001b[0;34m\u001b[0m\u001b[0;34m\u001b[0m\u001b[0m\n\u001b[1;32m    729\u001b[0m                 \u001b[0mkwargs\u001b[0m\u001b[0;34m[\u001b[0m\u001b[0mk\u001b[0m\u001b[0;34m]\u001b[0m \u001b[0;34m=\u001b[0m \u001b[0marg\u001b[0m\u001b[0;34m\u001b[0m\u001b[0;34m\u001b[0m\u001b[0m\n\u001b[0;32m--> 730\u001b[0;31m             \u001b[0;32mreturn\u001b[0m \u001b[0mfunc\u001b[0m\u001b[0;34m(\u001b[0m\u001b[0;34m**\u001b[0m\u001b[0mkwargs\u001b[0m\u001b[0;34m)\u001b[0m\u001b[0;34m\u001b[0m\u001b[0;34m\u001b[0m\u001b[0m\n\u001b[0m\u001b[1;32m    731\u001b[0m \u001b[0;34m\u001b[0m\u001b[0m\n\u001b[1;32m    732\u001b[0m         \u001b[0;32mreturn\u001b[0m \u001b[0minner_f\u001b[0m\u001b[0;34m\u001b[0m\u001b[0;34m\u001b[0m\u001b[0m\n",
            "\u001b[0;32m/usr/local/lib/python3.10/dist-packages/xgboost/sklearn.py\u001b[0m in \u001b[0;36mfit\u001b[0;34m(self, X, y, sample_weight, base_margin, eval_set, eval_metric, early_stopping_rounds, verbose, xgb_model, sample_weight_eval_set, base_margin_eval_set, feature_weights, callbacks)\u001b[0m\n\u001b[1;32m   1469\u001b[0m                 \u001b[0;32mor\u001b[0m \u001b[0;32mnot\u001b[0m \u001b[0;34m(\u001b[0m\u001b[0mclasses\u001b[0m \u001b[0;34m==\u001b[0m \u001b[0mexpected_classes\u001b[0m\u001b[0;34m)\u001b[0m\u001b[0;34m.\u001b[0m\u001b[0mall\u001b[0m\u001b[0;34m(\u001b[0m\u001b[0;34m)\u001b[0m\u001b[0;34m\u001b[0m\u001b[0;34m\u001b[0m\u001b[0m\n\u001b[1;32m   1470\u001b[0m             ):\n\u001b[0;32m-> 1471\u001b[0;31m                 raise ValueError(\n\u001b[0m\u001b[1;32m   1472\u001b[0m                     \u001b[0;34mf\"Invalid classes inferred from unique values of `y`.  \"\u001b[0m\u001b[0;34m\u001b[0m\u001b[0;34m\u001b[0m\u001b[0m\n\u001b[1;32m   1473\u001b[0m                     \u001b[0;34mf\"Expected: {expected_classes}, got {classes}\"\u001b[0m\u001b[0;34m\u001b[0m\u001b[0;34m\u001b[0m\u001b[0m\n",
            "\u001b[0;31mValueError\u001b[0m: Invalid classes inferred from unique values of `y`.  Expected: [ 0  1  2  3  4  5  6  7  8  9 10 11 12 13 14 15 16], got ['{other}' '{}' '{α, β}' '{α, γ}' '{α, δ}' '{α, ε, η}' '{α, ε, θ}'\n '{α, ε, ψ}' '{α, ε}' '{α, η}' '{α, θ}' '{α, λ}' '{α, μ}' '{α, π}'\n '{α, ψ}' '{α}' '{λ}']"
          ]
        }
      ]
    },
    {
      "cell_type": "code",
      "source": [
        "model_ctb = CatBoostClassifier(verbose = 0, random_state=42)\n",
        "skf = StratifiedKFold(n_splits=5)\n",
        "results = []\n",
        "for i, (train_index, val_index) in enumerate(skf.split(X, y)):\n",
        "    print(f\"Fold {i}:\")\n",
        "    x_train = X.iloc[train_index]\n",
        "    x_val = X.iloc[val_index]\n",
        "    y_train = y[train_index]\n",
        "    y_val = y[val_index]\n",
        "\n",
        "    model_ctb.fit(x_train, y_train, cat_features=cat_cols)\n",
        "\n",
        "    y_pred_proba = model_ctb.predict_proba(x_val)\n",
        "    results.append(weighted_roc_auc(y_val, y_pred_proba, model_ctb.classes_, weights_dict))\n",
        "print(results)\n",
        "print(f\"cv result: {np.mean(results)}\")"
      ],
      "metadata": {
        "colab": {
          "base_uri": "https://localhost:8080/"
        },
        "id": "ENKPMvn_wFyH",
        "outputId": "afa98be4-a37e-4c76-e964-a4c1db6fe375"
      },
      "id": "ENKPMvn_wFyH",
      "execution_count": null,
      "outputs": [
        {
          "metadata": {
            "tags": null
          },
          "name": "stdout",
          "output_type": "stream",
          "text": [
            "Fold 0:\n"
          ]
        }
      ]
    },
    {
      "cell_type": "code",
      "source": [],
      "metadata": {
        "id": "LmgvUtdy04IL"
      },
      "id": "LmgvUtdy04IL",
      "execution_count": null,
      "outputs": []
    }
  ],
  "metadata": {
    "kernelspec": {
      "display_name": "python3",
      "language": "python",
      "name": "python3"
    },
    "language_info": {
      "codemirror_mode": {
        "name": "ipython",
        "version": 3
      },
      "file_extension": ".py",
      "mimetype": "text/x-python",
      "name": "python",
      "nbconvert_exporter": "python",
      "pygments_lexer": "ipython3",
      "version": "3.7.12"
    },
    "colab": {
      "provenance": [],
      "collapsed_sections": [
        "sbj1RGzXvk9j"
      ]
    }
  },
  "nbformat": 4,
  "nbformat_minor": 5
}